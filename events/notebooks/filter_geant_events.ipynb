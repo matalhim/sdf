{
 "cells": [
  {
   "cell_type": "code",
   "execution_count": 1,
   "id": "85f511f2",
   "metadata": {},
   "outputs": [],
   "source": [
    "import numpy as np\n",
    "import pandas as pd\n",
    "import polars as pl\n",
    "\n",
    "from collections import deque, defaultdict\n",
    "import ast\n",
    "import os\n",
    "import glob\n",
    "from pathlib import Path\n",
    "from scipy.stats import mode\n",
    "from modeling_parameters.config import (\n",
    "    MATPLOTLIBRC_PATH,\n",
    "    COORDINATES_PATH,\n",
    "    CENTRAL_STATIONS,\n",
    ")\n",
    "\n",
    "import matplotlib as mpl\n",
    "mpl.rc_file(MATPLOTLIBRC_PATH)\n",
    "import matplotlib.pyplot as plt\n",
    "import matplotlib.ticker as ticker\n",
    "import seaborn as sns\n",
    "\n",
    "from modeling_parameters.reconstruction.geant.functions import(\n",
    "     compute_r,\n",
    "     rho_model,\n",
    "     filter_clusters,\n",
    ")\n",
    "\n",
    "from functions import(\n",
    "    ast_df,\n",
    "    ast_modeling_df,\n",
    "    is_central_stations,\n",
    ")\n",
    "\n",
    "from config import(\n",
    "    converters,\n",
    "    columns_to_eval,\n",
    ")\n"
   ]
  },
  {
   "cell_type": "code",
   "execution_count": 2,
   "id": "11f3b6e2",
   "metadata": {},
   "outputs": [],
   "source": [
    "coordinates_df = pd.read_csv(COORDINATES_PATH)\n",
    "\n",
    "X_det = np.array(coordinates_df['X'])\n",
    "Y_det = np.array(coordinates_df['Y'])\n",
    "Z_det = np.array(coordinates_df['Z'])"
   ]
  },
  {
   "cell_type": "code",
   "execution_count": 3,
   "id": "423dfd69",
   "metadata": {},
   "outputs": [],
   "source": [
    "geant_dir = '../../modeling_parameters/read/geant/output/spe27/'\n",
    "geant_1_file = 'spe27p_100.parquet'\n",
    "geant_2_file = 'spe27p1416_150k.parquet'\n",
    "\n",
    "\n",
    "geant_1_filepath  = os.path.join(geant_dir, geant_1_file)\n",
    "geant_2_filepath  = os.path.join(geant_dir, geant_2_file)\n"
   ]
  },
  {
   "cell_type": "code",
   "execution_count": 4,
   "id": "71da803f",
   "metadata": {},
   "outputs": [],
   "source": [
    "df = pl.read_parquet(geant_1_filepath)"
   ]
  },
  {
   "cell_type": "code",
   "execution_count": 5,
   "id": "ff98effe",
   "metadata": {},
   "outputs": [
    {
     "data": {
      "text/html": [
       "<div><style>\n",
       ".dataframe > thead > tr,\n",
       ".dataframe > tbody > tr {\n",
       "  text-align: right;\n",
       "  white-space: pre-wrap;\n",
       "}\n",
       "</style>\n",
       "<small>shape: (1, 50)</small><table border=\"1\" class=\"dataframe\"><thead><tr><th>N_event</th><th>NRUN</th><th>NEVENT</th><th>PART0</th><th>E0</th><th>Teta</th><th>Fi</th><th>XAxisShift</th><th>YAxisShift</th><th>H1INT</th><th>NGAM</th><th>NEL</th><th>NHADR</th><th>NMU</th><th>NeNKGlong</th><th>sNKGlong</th><th>NVD_edep</th><th>NVD_npe</th><th>MuBundle</th><th>MuTrackLenNVD</th><th>nMuNVD</th><th>eMuNVD</th><th>eMuNVD1</th><th>muDCR</th><th>muSM</th><th>nSM</th><th>muDCRw</th><th>muSMw</th><th>nSMw</th><th>muDCR0</th><th>muSM0</th><th>nSM0</th><th>muDCRw0</th><th>muSMw0</th><th>nSMw0</th><th>AmplKSM</th><th>hSM</th><th>nTrackSMX</th><th>nTrackSMY</th><th>nTrackSM</th><th>hSM0</th><th>nTrackSMX0</th><th>nTrackSMY0</th><th>nTrackSM0</th><th>EdepCntSCT</th><th>EdepDetNE</th><th>TimDetNE</th><th>EdepStNE</th><th>TimStNE</th><th>marker</th></tr><tr><td>f64</td><td>f64</td><td>f64</td><td>f64</td><td>f64</td><td>f64</td><td>f64</td><td>f64</td><td>f64</td><td>f64</td><td>f64</td><td>f64</td><td>f64</td><td>f64</td><td>f64</td><td>f64</td><td>f64</td><td>f64</td><td>f64</td><td>f64</td><td>f64</td><td>f64</td><td>f64</td><td>f64</td><td>f64</td><td>f64</td><td>f64</td><td>f64</td><td>f64</td><td>f64</td><td>f64</td><td>f64</td><td>f64</td><td>f64</td><td>f64</td><td>list[list[list[list[f64]]]]</td><td>list[f64]</td><td>list[f64]</td><td>list[f64]</td><td>list[f64]</td><td>list[f64]</td><td>list[f64]</td><td>list[f64]</td><td>list[f64]</td><td>list[list[list[f64]]]</td><td>list[list[list[f64]]]</td><td>list[list[list[list[f64]]]]</td><td>list[list[f64]]</td><td>list[list[list[f64]]]</td><td>f64</td></tr></thead><tbody><tr><td>0.0</td><td>1000.0</td><td>1.0</td><td>14.0</td><td>1.024144e6</td><td>37.367474</td><td>47.313324</td><td>13.572407</td><td>37.022316</td><td>2.2006e6</td><td>139558.0</td><td>18742.0</td><td>815.0</td><td>10006.0</td><td>14672.599609</td><td>1.444716</td><td>0.0</td><td>0.0</td><td>0.0</td><td>0.0</td><td>0.0</td><td>0.0</td><td>0.0</td><td>0.0</td><td>0.0</td><td>0.0</td><td>0.0</td><td>0.0</td><td>0.0</td><td>0.0</td><td>0.0</td><td>0.0</td><td>0.0</td><td>0.0</td><td>0.0</td><td>[[[[0.0, 0.0, … 0.0], [0.0, 0.0, … 0.0], … [0.0, 0.0, … 0.0]], [[0.0, 0.0, … 0.0], [0.0, 0.0, … 0.0], … [0.0, 0.0, … 0.0]], … [[0.0, 0.0, … 0.0], [0.0, 0.0, … 0.0], … [0.0, 0.0, … 0.0]]], [[[0.0, 0.0, … 0.0], [0.0, 0.0, … 0.0], … [0.0, 0.0, … 0.0]], [[0.0, 0.0, … 0.0], [0.0, 0.0, … 0.0], … [0.0, 0.0, … 0.0]], … [[0.0, 0.0, … 0.0], [0.0, 0.0, … 0.0], … [0.0, 0.0, … 0.0]]], … [[[0.0, 0.0, … 0.0], [0.0, 0.0, … 0.0], … [0.0, 0.0, … 0.0]], [[0.0, 0.0, … 0.0], [0.0, 0.0, … 0.0], … [0.0, 0.0, … 0.0]], … [[0.0, 0.0, … 0.0], [0.0, 0.0, … 0.0], … [0.0, 0.0, … 0.0]]]]</td><td>[0.0, 0.0, … 0.0]</td><td>[0.0, 0.0, … 0.0]</td><td>[0.0, 0.0, … 0.0]</td><td>[0.0, 0.0, … 0.0]</td><td>[0.0, 0.0, … 0.0]</td><td>[0.0, 0.0, … 0.0]</td><td>[0.0, 0.0, … 0.0]</td><td>[0.0, 0.0, … 0.0]</td><td>[[[0.0, 0.0], [0.0, 0.0], … [0.0, 0.0]], [[0.0, 0.0], [0.0, 0.0], … [0.0, 0.0]], … [[0.0, 0.0], [0.0, 0.0], … [0.0, 0.0]]]</td><td>[[[0.0, 0.0, … 0.0], [10.222194, 1.102166, … 0.0], … [0.0, 0.0, … 12.019694]], [[0.0, 0.0, … 21.797497], [28.810249, 1.386011, … 16.11937], … [8.516803, 0.0, … 0.0]], … [[0.0, 0.607349, … 0.0], [11.273481, 0.0, … 0.024522], … [0.0, 0.0, … 0.0]]]</td><td>[[[[0.0, -1.0, … 0.0], [0.0, -1.0, … 0.0], … [0.0, -1.0, … 0.0]], [[91830.773438, 91830.726562, … 91830.71875], [91847.273438, -1.0, … 91847.234375], … [0.0, -1.0, … 0.0]], … [[0.0, -1.0, … 0.0], [0.0, -1.0, … 0.0], … [91830.789062, 91830.710938, … 91830.710938]]], [[[0.0, -1.0, … 0.0], [0.0, -1.0, … 0.0], … [91806.085938, 91806.085938, … 91777.171875]], [[91788.414062, 91781.90625, … 91782.5], [91788.851562, -1.0, … 91785.203125], … [91784.054688, 91783.734375, … 91783.804688]], … [[91779.9375, 91779.9375, … 91779.9375], [0.0, -1.0, … 0.0], … [0.0, -1.0, … 0.0]]], … [[[0.0, -1.0, … 0.0], [91910.6875, -1.0, … 91910.6875], … [0.0, -1.0, … 0.0]], [[91878.546875, 91878.492188, … 91878.476562], [0.0, -1.0, … 0.0], … [91881.507812, -1.0, … 91881.507812]], … [[0.0, -1.0, … 0.0], [0.0, -1.0, … 0.0], … [0.0, -1.0, … 0.0]]]]</td><td>[[0.101911, 11.324359, … 23.782166], [21.877735, 57.119301, … 8.516803], … [0.624726, 11.298003, … 0.0]]</td><td>[[[91820.75, -1.0, … 91820.75], [91847.273438, 91830.726562, … 91833.71875], … [91832.429688, 91830.710938, … 91830.71875]], [[91806.085938, 91806.085938, … 91777.960938], [91788.851562, 91781.867188, … 91782.921875], … [91779.9375, 91779.9375, … 91779.9375]], … [[91910.6875, -1.0, … 91895.914062], [91881.507812, 91878.492188, … 91878.726562], … [0.0, -1.0, … 0.0]]]</td><td>-1.0</td></tr></tbody></table></div>"
      ],
      "text/plain": [
       "shape: (1, 50)\n",
       "┌─────────┬────────┬────────┬───────┬───┬────────────────┬────────────────┬───────────────┬────────┐\n",
       "│ N_event ┆ NRUN   ┆ NEVENT ┆ PART0 ┆ … ┆ TimDetNE       ┆ EdepStNE       ┆ TimStNE       ┆ marker │\n",
       "│ ---     ┆ ---    ┆ ---    ┆ ---   ┆   ┆ ---            ┆ ---            ┆ ---           ┆ ---    │\n",
       "│ f64     ┆ f64    ┆ f64    ┆ f64   ┆   ┆ list[list[list ┆ list[list[f64] ┆ list[list[lis ┆ f64    │\n",
       "│         ┆        ┆        ┆       ┆   ┆ [list[f64]]]]  ┆ ]              ┆ t[f64]]]      ┆        │\n",
       "╞═════════╪════════╪════════╪═══════╪═══╪════════════════╪════════════════╪═══════════════╪════════╡\n",
       "│ 0.0     ┆ 1000.0 ┆ 1.0    ┆ 14.0  ┆ … ┆ [[[[0.0, -1.0, ┆ [[0.101911,    ┆ [[[91820.75,  ┆ -1.0   │\n",
       "│         ┆        ┆        ┆       ┆   ┆ … 0.0], [0.0,  ┆ 11.324359, …   ┆ -1.0, …       ┆        │\n",
       "│         ┆        ┆        ┆       ┆   ┆ -…             ┆ 23.78…         ┆ 91820.75]…    ┆        │\n",
       "└─────────┴────────┴────────┴───────┴───┴────────────────┴────────────────┴───────────────┴────────┘"
      ]
     },
     "execution_count": 5,
     "metadata": {},
     "output_type": "execute_result"
    }
   ],
   "source": [
    "df.head(1)"
   ]
  },
  {
   "cell_type": "code",
   "execution_count": 6,
   "id": "885d625e",
   "metadata": {},
   "outputs": [],
   "source": [
    "df_filtered = df.filter(pl.col(\"Teta\") >= 40)"
   ]
  },
  {
   "cell_type": "code",
   "execution_count": 7,
   "id": "a0d14941",
   "metadata": {},
   "outputs": [],
   "source": [
    "def prepare_event(E_1_event):\n",
    "    e_list = []\n",
    "    for i_cluster, cluster in enumerate(E_1_event):\n",
    "        for j_station, value in enumerate(cluster):\n",
    "            e_list.append({'cluster': i_cluster+1, 'station': j_station+1, 'E': value})\n",
    "    return pd.DataFrame(e_list)"
   ]
  },
  {
   "cell_type": "code",
   "execution_count": 8,
   "id": "b3181036",
   "metadata": {},
   "outputs": [],
   "source": [
    "df_pd = df_filtered.to_pandas()\n",
    "\n",
    "r_modeling = []\n",
    "rho_modeling = []\n",
    "final_rows = []\n",
    "\n",
    "\n",
    "for j_event in range(len(df_pd)):\n",
    "    theta_g = df_pd.at[j_event, 'Teta']\n",
    "    phi_g = df_pd.at[j_event, 'Fi']\n",
    "    X0_g = df_pd.at[j_event, 'XAxisShift']\n",
    "    Y0_g = df_pd.at[j_event, 'YAxisShift']\n",
    "    Z0_g = 0\n",
    "\n",
    "    r_geant = compute_r(X0_g, Y0_g, Z0_g, theta_g, phi_g, X_det, Y_det, Z_det)\n",
    "\n",
    "    E_1_event = df_pd.at[j_event, 'EdepStNE']\n",
    "    E_stations = prepare_event(E_1_event)\n",
    "\n",
    "    worked_clusters, worked_stations, mask, rho_geant = filter_clusters(E_stations, threshold=0)\n",
    "\n",
    "    central_subset = E_stations[E_stations['station'].isin(CENTRAL_STATIONS)]\n",
    "    top2 = central_subset.nlargest(2, 'E')\n",
    "\n",
    "    if len(top2) == 2 and np.any(mask): \n",
    "        r_vals = r_geant[mask]\n",
    "        rho_vals = rho_geant  \n",
    "\n",
    "        if r_vals.size > 0 and rho_vals.size > 0:\n",
    "            row = df_pd.iloc[j_event].copy()\n",
    "            row['r_vals'] = r_vals.tolist()\n",
    "            row['rho_vals'] = rho_vals.tolist()\n",
    "            final_rows.append(row)\n",
    "\n",
    "\n",
    "final_df = pd.DataFrame(final_rows)\n",
    "final_pl_df = pl.from_pandas(final_df)\n",
    "final_pl_df.write_parquet(\"geant_data/spe/spe27_theta_ge_40.parquet\")"
   ]
  },
  {
   "cell_type": "code",
   "execution_count": null,
   "id": "e7f62bdf",
   "metadata": {},
   "outputs": [],
   "source": []
  }
 ],
 "metadata": {
  "kernelspec": {
   "display_name": "base",
   "language": "python",
   "name": "python3"
  },
  "language_info": {
   "codemirror_mode": {
    "name": "ipython",
    "version": 3
   },
   "file_extension": ".py",
   "mimetype": "text/x-python",
   "name": "python",
   "nbconvert_exporter": "python",
   "pygments_lexer": "ipython3",
   "version": "3.12.3"
  }
 },
 "nbformat": 4,
 "nbformat_minor": 5
}
