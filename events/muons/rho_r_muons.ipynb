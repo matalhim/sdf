{
 "cells": [
  {
   "cell_type": "code",
   "execution_count": 1,
   "id": "348bdd2b",
   "metadata": {},
   "outputs": [],
   "source": [
    "import numpy as np\n",
    "import pandas as pd\n",
    "from collections import deque, defaultdict\n",
    "import ast\n",
    "import os\n",
    "import glob\n",
    "from pathlib import Path\n",
    "from scipy.stats import mode\n",
    "from modeling_parameters.config import (\n",
    "    MATPLOTLIBRC_PATH,\n",
    "    COORDINATES_PATH,\n",
    ")\n",
    "\n",
    "import matplotlib as mpl\n",
    "mpl.rc_file(MATPLOTLIBRC_PATH)\n",
    "import matplotlib.pyplot as plt\n",
    "import matplotlib.ticker as ticker\n",
    "from matplotlib.lines import Line2D\n",
    "import seaborn as sns\n",
    "\n",
    "from functions import (\n",
    "    add_distance_to_df,\n",
    "    is_central_stations,\n",
    ")"
   ]
  },
  {
   "cell_type": "code",
   "execution_count": 2,
   "id": "13bbbdbd",
   "metadata": {},
   "outputs": [],
   "source": [
    "events_df = pd.read_parquet('../events.parquet', engine='pyarrow')"
   ]
  },
  {
   "cell_type": "code",
   "execution_count": 3,
   "id": "6bad4388",
   "metadata": {},
   "outputs": [],
   "source": [
    "decor_dot = (0, 0, -8)\n",
    "x_d, y_d, z_d = decor_dot\n",
    "events_df = add_distance_to_df(events_df, decor_dot)"
   ]
  },
  {
   "cell_type": "code",
   "execution_count": 4,
   "id": "f9d38495",
   "metadata": {},
   "outputs": [],
   "source": [
    "events_df['rho_mu'] = events_df['Nview'] / events_df['Sdet']"
   ]
  },
  {
   "cell_type": "code",
   "execution_count": 5,
   "id": "b1deb46b",
   "metadata": {},
   "outputs": [
    {
     "data": {
      "text/html": [
       "<div>\n",
       "<style scoped>\n",
       "    .dataframe tbody tr th:only-of-type {\n",
       "        vertical-align: middle;\n",
       "    }\n",
       "\n",
       "    .dataframe tbody tr th {\n",
       "        vertical-align: top;\n",
       "    }\n",
       "\n",
       "    .dataframe thead th {\n",
       "        text-align: right;\n",
       "    }\n",
       "</style>\n",
       "<table border=\"1\" class=\"dataframe\">\n",
       "  <thead>\n",
       "    <tr style=\"text-align: right;\">\n",
       "      <th></th>\n",
       "      <th>NRUN</th>\n",
       "      <th>NEvent</th>\n",
       "      <th>Theta</th>\n",
       "      <th>Phi</th>\n",
       "      <th>X0_opt</th>\n",
       "      <th>Y0_opt</th>\n",
       "      <th>Ne_opt</th>\n",
       "      <th>s_opt</th>\n",
       "      <th>loss</th>\n",
       "      <th>NtrackX</th>\n",
       "      <th>...</th>\n",
       "      <th>Nview</th>\n",
       "      <th>worked_clusters</th>\n",
       "      <th>station_flags</th>\n",
       "      <th>rho</th>\n",
       "      <th>a_std</th>\n",
       "      <th>q_std</th>\n",
       "      <th>t_std</th>\n",
       "      <th>Sdet</th>\n",
       "      <th>r_decor</th>\n",
       "      <th>rho_mu</th>\n",
       "    </tr>\n",
       "  </thead>\n",
       "  <tbody>\n",
       "    <tr>\n",
       "      <th>0</th>\n",
       "      <td>836</td>\n",
       "      <td>6627</td>\n",
       "      <td>63.67</td>\n",
       "      <td>116.71</td>\n",
       "      <td>33.168543</td>\n",
       "      <td>-80.000</td>\n",
       "      <td>5468.278104</td>\n",
       "      <td>1.441416</td>\n",
       "      <td>0.633660</td>\n",
       "      <td>6</td>\n",
       "      <td>...</td>\n",
       "      <td>7</td>\n",
       "      <td>[2, 3, 4, 5, 6, 7, 8]</td>\n",
       "      <td>[False, False, False, False, True, True, False...</td>\n",
       "      <td>[0.5754942602040817, 0.22737962372448978, 0.39...</td>\n",
       "      <td>[None, None, None, None, 143.637, 88.789, None...</td>\n",
       "      <td>[None, None, None, None, 86.628, 34.227, None,...</td>\n",
       "      <td>[None, None, None, None, 2353.241, 2339.532, N...</td>\n",
       "      <td>28.4839</td>\n",
       "      <td>45.917690</td>\n",
       "      <td>0.245753</td>\n",
       "    </tr>\n",
       "    <tr>\n",
       "      <th>1</th>\n",
       "      <td>836</td>\n",
       "      <td>12188</td>\n",
       "      <td>42.90</td>\n",
       "      <td>198.78</td>\n",
       "      <td>50.000000</td>\n",
       "      <td>80.000</td>\n",
       "      <td>90724.620406</td>\n",
       "      <td>2.000000</td>\n",
       "      <td>0.496810</td>\n",
       "      <td>17</td>\n",
       "      <td>...</td>\n",
       "      <td>15</td>\n",
       "      <td>[3, 4, 5, 7, 9]</td>\n",
       "      <td>[False, False, False, False, False, False, Fal...</td>\n",
       "      <td>[0.30331898384353745, 0.4862218324829932, 0.03...</td>\n",
       "      <td>[None, None, None, None, None, None, None, Non...</td>\n",
       "      <td>[None, None, None, None, None, None, None, Non...</td>\n",
       "      <td>[None, None, None, None, None, None, None, Non...</td>\n",
       "      <td>26.5495</td>\n",
       "      <td>83.887920</td>\n",
       "      <td>0.564982</td>\n",
       "    </tr>\n",
       "    <tr>\n",
       "      <th>2</th>\n",
       "      <td>836</td>\n",
       "      <td>12453</td>\n",
       "      <td>51.32</td>\n",
       "      <td>212.71</td>\n",
       "      <td>-25.359000</td>\n",
       "      <td>5.885</td>\n",
       "      <td>15917.649306</td>\n",
       "      <td>1.961136</td>\n",
       "      <td>0.749836</td>\n",
       "      <td>6</td>\n",
       "      <td>...</td>\n",
       "      <td>6</td>\n",
       "      <td>[1, 2, 3, 5, 8]</td>\n",
       "      <td>[True, True, True, True, True, True, True, Tru...</td>\n",
       "      <td>[0.9574829931972789, 0.171343537414966, 0.1644...</td>\n",
       "      <td>[247.509, 76.928, 85.595, 53.739, 21.248, 89.5...</td>\n",
       "      <td>[144.128, 25.792, 24.751, 20.768, 7.834, 42.13...</td>\n",
       "      <td>[2376.449, 2347.995, 2335.962, 2361.802, 2372....</td>\n",
       "      <td>30.8412</td>\n",
       "      <td>19.340653</td>\n",
       "      <td>0.194545</td>\n",
       "    </tr>\n",
       "  </tbody>\n",
       "</table>\n",
       "<p>3 rows × 23 columns</p>\n",
       "</div>"
      ],
      "text/plain": [
       "   NRUN  NEvent  Theta     Phi     X0_opt  Y0_opt        Ne_opt     s_opt  \\\n",
       "0   836    6627  63.67  116.71  33.168543 -80.000   5468.278104  1.441416   \n",
       "1   836   12188  42.90  198.78  50.000000  80.000  90724.620406  2.000000   \n",
       "2   836   12453  51.32  212.71 -25.359000   5.885  15917.649306  1.961136   \n",
       "\n",
       "       loss  NtrackX  ...  Nview        worked_clusters  \\\n",
       "0  0.633660        6  ...      7  [2, 3, 4, 5, 6, 7, 8]   \n",
       "1  0.496810       17  ...     15        [3, 4, 5, 7, 9]   \n",
       "2  0.749836        6  ...      6        [1, 2, 3, 5, 8]   \n",
       "\n",
       "                                       station_flags  \\\n",
       "0  [False, False, False, False, True, True, False...   \n",
       "1  [False, False, False, False, False, False, Fal...   \n",
       "2  [True, True, True, True, True, True, True, Tru...   \n",
       "\n",
       "                                                 rho  \\\n",
       "0  [0.5754942602040817, 0.22737962372448978, 0.39...   \n",
       "1  [0.30331898384353745, 0.4862218324829932, 0.03...   \n",
       "2  [0.9574829931972789, 0.171343537414966, 0.1644...   \n",
       "\n",
       "                                               a_std  \\\n",
       "0  [None, None, None, None, 143.637, 88.789, None...   \n",
       "1  [None, None, None, None, None, None, None, Non...   \n",
       "2  [247.509, 76.928, 85.595, 53.739, 21.248, 89.5...   \n",
       "\n",
       "                                               q_std  \\\n",
       "0  [None, None, None, None, 86.628, 34.227, None,...   \n",
       "1  [None, None, None, None, None, None, None, Non...   \n",
       "2  [144.128, 25.792, 24.751, 20.768, 7.834, 42.13...   \n",
       "\n",
       "                                               t_std     Sdet    r_decor  \\\n",
       "0  [None, None, None, None, 2353.241, 2339.532, N...  28.4839  45.917690   \n",
       "1  [None, None, None, None, None, None, None, Non...  26.5495  83.887920   \n",
       "2  [2376.449, 2347.995, 2335.962, 2361.802, 2372....  30.8412  19.340653   \n",
       "\n",
       "     rho_mu  \n",
       "0  0.245753  \n",
       "1  0.564982  \n",
       "2  0.194545  \n",
       "\n",
       "[3 rows x 23 columns]"
      ]
     },
     "execution_count": 5,
     "metadata": {},
     "output_type": "execute_result"
    }
   ],
   "source": [
    "events_df.head(3)"
   ]
  },
  {
   "cell_type": "code",
   "execution_count": 6,
   "id": "c3bd6480",
   "metadata": {},
   "outputs": [],
   "source": [
    "n = 2\n",
    "events_df = events_df[events_df.apply(lambda row: is_central_stations(row, n), axis=1)]"
   ]
  },
  {
   "cell_type": "code",
   "execution_count": 9,
   "id": "e2fb9471",
   "metadata": {},
   "outputs": [],
   "source": [
    "events_df = events_df[\n",
    "    (events_df['X0_opt'] > -20) & (events_df['X0_opt'] < 20) &\n",
    "    (events_df['Y0_opt'] > -40) & (events_df['Y0_opt'] < 40) &\n",
    "    (events_df['loss'] < 1) &\n",
    "    (events_df['s_opt'] < 1.9) & (events_df['s_opt'] > 1.2)   \n",
    "]"
   ]
  },
  {
   "cell_type": "code",
   "execution_count": 10,
   "id": "b4f962be",
   "metadata": {},
   "outputs": [],
   "source": [
    "rho_mu = np.array(events_df['rho_mu'])\n",
    "r_decor = np.array(events_df['r_decor'])\n"
   ]
  },
  {
   "cell_type": "code",
   "execution_count": 11,
   "id": "0869c6c3",
   "metadata": {},
   "outputs": [],
   "source": [
    "muon_df = pd.read_csv('rho_mu_corsika/pDAT165008r_rho_m.txt', sep='\\t', header=None)\n",
    "muon_df.columns = ['r', 'rho', 's']\n",
    "\n",
    "r = np.array(10 ** muon_df['r'])\n",
    "rho = np.array(muon_df['rho'])\n",
    "\n",
    "mask = rho > 0\n",
    "r = r[mask]\n",
    "rho = rho[mask]\n"
   ]
  },
  {
   "cell_type": "code",
   "execution_count": 12,
   "id": "4924a458",
   "metadata": {},
   "outputs": [
    {
     "data": {
      "image/png": "[encoded data removed]",
      "text/plain": [
       "<Figure size 1500x600 with 1 Axes>"
      ]
     },
     "metadata": {},
     "output_type": "display_data"
    }
   ],
   "source": [
    "plt.figure(figsize=(15, 6))\n",
    "\n",
    "plt.plot(r, rho, marker='o')\n",
    "plt.scatter(r_decor, rho_mu, marker='o')\n",
    "\n",
    "plt.xlabel(r'$r,\\text{м}$')\n",
    "plt.ylabel(r'$\\rho_{\\mu}$')\n",
    "plt.yscale('log')\n",
    "plt.xscale('log')\n",
    "\n",
    "plt.grid()\n",
    "plt.show()"
   ]
  },
  {
   "cell_type": "code",
   "execution_count": null,
   "id": "bf00f2af",
   "metadata": {},
   "outputs": [],
   "source": []
  }
 ],
 "metadata": {
  "kernelspec": {
   "display_name": "base",
   "language": "python",
   "name": "python3"
  },
  "language_info": {
   "codemirror_mode": {
    "name": "ipython",
    "version": 3
   },
   "file_extension": ".py",
   "mimetype": "text/x-python",
   "name": "python",
   "nbconvert_exporter": "python",
   "pygments_lexer": "ipython3",
   "version": "3.12.3"
  }
 },
 "nbformat": 4,
 "nbformat_minor": 5
}
