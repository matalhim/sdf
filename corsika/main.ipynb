{
 "cells": [
  {
   "cell_type": "code",
   "execution_count": 1,
   "metadata": {},
   "outputs": [],
   "source": [
    "import pandas as pd\n",
    "import numpy as np\n",
    "import matplotlib.pyplot as plt\n",
    "\n",
    "from scipy.optimize import minimize\n",
    "from scipy.special import gamma\n",
    "from scipy.optimize import differential_evolution"
   ]
  },
  {
   "cell_type": "code",
   "execution_count": 2,
   "metadata": {},
   "outputs": [],
   "source": [
    "plt.style.use('ggplot')"
   ]
  },
  {
   "cell_type": "code",
   "execution_count": 3,
   "metadata": {},
   "outputs": [],
   "source": [
    "df = pd.read_csv(\"csv_output/p1730_2022.csv\", converters={\n",
    "    \"AmplKSM\": eval, \"hSM\": eval, \"nTrackSMX\": eval, \"nTrackSMY\": eval, \"nTrackSM\": eval,\n",
    "    \"hSM0\": eval, \"nTrackSMX0\": eval, \"nTrackSMY0\": eval, \"nTrackSM0\": eval,\n",
    "    \"EdepCntSCT\": eval, \"EdepDetNE\": eval, \"TimDetNE\": eval, \"EdepStNE\": eval, \"TimStNE\": eval\n",
    "})"
   ]
  },
  {
   "cell_type": "code",
   "execution_count": 4,
   "metadata": {},
   "outputs": [
    {
     "data": {
      "text/html": [
       "<div>\n",
       "<style scoped>\n",
       "    .dataframe tbody tr th:only-of-type {\n",
       "        vertical-align: middle;\n",
       "    }\n",
       "\n",
       "    .dataframe tbody tr th {\n",
       "        vertical-align: top;\n",
       "    }\n",
       "\n",
       "    .dataframe thead th {\n",
       "        text-align: right;\n",
       "    }\n",
       "</style>\n",
       "<table border=\"1\" class=\"dataframe\">\n",
       "  <thead>\n",
       "    <tr style=\"text-align: right;\">\n",
       "      <th></th>\n",
       "      <th>N_event</th>\n",
       "      <th>NRUN</th>\n",
       "      <th>NEVENT</th>\n",
       "      <th>PART0</th>\n",
       "      <th>E0</th>\n",
       "      <th>Teta</th>\n",
       "      <th>Fi</th>\n",
       "      <th>XAxisShift</th>\n",
       "      <th>YAxisShift</th>\n",
       "      <th>H1INT</th>\n",
       "      <th>...</th>\n",
       "      <th>hSM0</th>\n",
       "      <th>nTrackSMX0</th>\n",
       "      <th>nTrackSMY0</th>\n",
       "      <th>nTrackSM0</th>\n",
       "      <th>EdepCntSCT</th>\n",
       "      <th>EdepDetNE</th>\n",
       "      <th>TimDetNE</th>\n",
       "      <th>EdepStNE</th>\n",
       "      <th>TimStNE</th>\n",
       "      <th>marker</th>\n",
       "    </tr>\n",
       "  </thead>\n",
       "  <tbody>\n",
       "    <tr>\n",
       "      <th>0</th>\n",
       "      <td>0.0</td>\n",
       "      <td>173000.0</td>\n",
       "      <td>1.0</td>\n",
       "      <td>14.0</td>\n",
       "      <td>100000000.0</td>\n",
       "      <td>30.0</td>\n",
       "      <td>53.163406</td>\n",
       "      <td>21.254372</td>\n",
       "      <td>60.104460</td>\n",
       "      <td>3549455.5</td>\n",
       "      <td>...</td>\n",
       "      <td>[0.0, 0.0, 0.0, 0.0, 0.0, 0.0, 0.0, 0.0]</td>\n",
       "      <td>[0.0, 0.0, 0.0, 0.0, 0.0, 0.0, 0.0, 0.0]</td>\n",
       "      <td>[0.0, 0.0, 0.0, 0.0, 0.0, 0.0, 0.0, 0.0]</td>\n",
       "      <td>[0.0, 0.0, 0.0, 0.0, 0.0, 0.0, 0.0, 0.0]</td>\n",
       "      <td>[[[0.0, 0.0], [0.0, 0.0], [0.0, 0.0], [0.0, 0....</td>\n",
       "      <td>[[[484.4850158691406, 516.8804321289062, 411.3...</td>\n",
       "      <td>[[[[136352.890625, 136258.109375, 136239.4375,...</td>\n",
       "      <td>[[1755.4146728515625, 1280.5128173828125, 975....</td>\n",
       "      <td>[[[136375.296875, 136243.75, 136237.4375, 1362...</td>\n",
       "      <td>-1.0</td>\n",
       "    </tr>\n",
       "    <tr>\n",
       "      <th>1</th>\n",
       "      <td>0.0</td>\n",
       "      <td>173001.0</td>\n",
       "      <td>1.0</td>\n",
       "      <td>14.0</td>\n",
       "      <td>100000000.0</td>\n",
       "      <td>30.0</td>\n",
       "      <td>118.852844</td>\n",
       "      <td>0.967100</td>\n",
       "      <td>53.281273</td>\n",
       "      <td>1595547.5</td>\n",
       "      <td>...</td>\n",
       "      <td>[0.0, 0.0, 0.0, 0.0, 0.0, 0.0, 0.0, 0.0]</td>\n",
       "      <td>[0.0, 0.0, 0.0, 0.0, 0.0, 0.0, 0.0, 0.0]</td>\n",
       "      <td>[0.0, 0.0, 0.0, 0.0, 0.0, 0.0, 0.0, 0.0]</td>\n",
       "      <td>[0.0, 0.0, 0.0, 0.0, 0.0, 0.0, 0.0, 0.0]</td>\n",
       "      <td>[[[0.0, 0.0], [0.0, 0.0], [0.0, 0.0], [0.0, 0....</td>\n",
       "      <td>[[[1688.9930419921875, 1648.3756103515625, 143...</td>\n",
       "      <td>[[[[61049.18359375, 60952.125, 60910.125, 6092...</td>\n",
       "      <td>[[6706.82470703125, 5095.81103515625, 3485.858...</td>\n",
       "      <td>[[[63138.34765625, 60913.1015625, 60909.011718...</td>\n",
       "      <td>-1.0</td>\n",
       "    </tr>\n",
       "    <tr>\n",
       "      <th>2</th>\n",
       "      <td>0.0</td>\n",
       "      <td>173002.0</td>\n",
       "      <td>1.0</td>\n",
       "      <td>14.0</td>\n",
       "      <td>100000000.0</td>\n",
       "      <td>30.0</td>\n",
       "      <td>286.241000</td>\n",
       "      <td>-19.320170</td>\n",
       "      <td>46.458084</td>\n",
       "      <td>2439109.5</td>\n",
       "      <td>...</td>\n",
       "      <td>[0.0, 0.0, 0.0, 0.0, 0.0, 0.0, 0.0, 0.0]</td>\n",
       "      <td>[0.0, 0.0, 0.0, 0.0, 0.0, 0.0, 0.0, 0.0]</td>\n",
       "      <td>[0.0, 0.0, 0.0, 0.0, 0.0, 0.0, 0.0, 0.0]</td>\n",
       "      <td>[0.0, 0.0, 0.0, 0.0, 0.0, 0.0, 0.0, 0.0]</td>\n",
       "      <td>[[[0.0, 0.0], [0.0, 0.0], [0.0, 0.0], [0.0, 0....</td>\n",
       "      <td>[[[1179.007080078125, 1364.9500732421875, 1572...</td>\n",
       "      <td>[[[[93722.7109375, 93293.046875, 93289.6015625...</td>\n",
       "      <td>[[5341.71337890625, 4321.70556640625, 2836.470...</td>\n",
       "      <td>[[[104192.484375, 93290.578125, 93289.4296875,...</td>\n",
       "      <td>-1.0</td>\n",
       "    </tr>\n",
       "    <tr>\n",
       "      <th>3</th>\n",
       "      <td>0.0</td>\n",
       "      <td>173003.0</td>\n",
       "      <td>1.0</td>\n",
       "      <td>14.0</td>\n",
       "      <td>100000000.0</td>\n",
       "      <td>30.0</td>\n",
       "      <td>65.182830</td>\n",
       "      <td>40.142555</td>\n",
       "      <td>39.634895</td>\n",
       "      <td>1626964.9</td>\n",
       "      <td>...</td>\n",
       "      <td>[0.0, 0.0, 0.0, 0.0, 0.0, 0.0, 0.0, 0.0]</td>\n",
       "      <td>[0.0, 0.0, 0.0, 0.0, 0.0, 0.0, 0.0, 0.0]</td>\n",
       "      <td>[0.0, 0.0, 0.0, 0.0, 0.0, 0.0, 0.0, 0.0]</td>\n",
       "      <td>[0.0, 0.0, 0.0, 0.0, 0.0, 0.0, 0.0, 0.0]</td>\n",
       "      <td>[[[0.0, 0.0], [0.0, 0.0], [0.0, 0.0], [0.0, 0....</td>\n",
       "      <td>[[[1088.6395263671875, 1051.98583984375, 1205....</td>\n",
       "      <td>[[[[63131.47265625, 62198.55078125, 62169.4257...</td>\n",
       "      <td>[[4219.66259765625, 2415.139892578125, 2878.16...</td>\n",
       "      <td>[[[63131.47265625, 62172.51171875, 62168.00781...</td>\n",
       "      <td>-1.0</td>\n",
       "    </tr>\n",
       "  </tbody>\n",
       "</table>\n",
       "<p>4 rows × 50 columns</p>\n",
       "</div>"
      ],
      "text/plain": [
       "   N_event      NRUN  NEVENT  PART0           E0  Teta          Fi  \\\n",
       "0      0.0  173000.0     1.0   14.0  100000000.0  30.0   53.163406   \n",
       "1      0.0  173001.0     1.0   14.0  100000000.0  30.0  118.852844   \n",
       "2      0.0  173002.0     1.0   14.0  100000000.0  30.0  286.241000   \n",
       "3      0.0  173003.0     1.0   14.0  100000000.0  30.0   65.182830   \n",
       "\n",
       "   XAxisShift  YAxisShift      H1INT  ...  \\\n",
       "0   21.254372   60.104460  3549455.5  ...   \n",
       "1    0.967100   53.281273  1595547.5  ...   \n",
       "2  -19.320170   46.458084  2439109.5  ...   \n",
       "3   40.142555   39.634895  1626964.9  ...   \n",
       "\n",
       "                                       hSM0  \\\n",
       "0  [0.0, 0.0, 0.0, 0.0, 0.0, 0.0, 0.0, 0.0]   \n",
       "1  [0.0, 0.0, 0.0, 0.0, 0.0, 0.0, 0.0, 0.0]   \n",
       "2  [0.0, 0.0, 0.0, 0.0, 0.0, 0.0, 0.0, 0.0]   \n",
       "3  [0.0, 0.0, 0.0, 0.0, 0.0, 0.0, 0.0, 0.0]   \n",
       "\n",
       "                                 nTrackSMX0  \\\n",
       "0  [0.0, 0.0, 0.0, 0.0, 0.0, 0.0, 0.0, 0.0]   \n",
       "1  [0.0, 0.0, 0.0, 0.0, 0.0, 0.0, 0.0, 0.0]   \n",
       "2  [0.0, 0.0, 0.0, 0.0, 0.0, 0.0, 0.0, 0.0]   \n",
       "3  [0.0, 0.0, 0.0, 0.0, 0.0, 0.0, 0.0, 0.0]   \n",
       "\n",
       "                                 nTrackSMY0  \\\n",
       "0  [0.0, 0.0, 0.0, 0.0, 0.0, 0.0, 0.0, 0.0]   \n",
       "1  [0.0, 0.0, 0.0, 0.0, 0.0, 0.0, 0.0, 0.0]   \n",
       "2  [0.0, 0.0, 0.0, 0.0, 0.0, 0.0, 0.0, 0.0]   \n",
       "3  [0.0, 0.0, 0.0, 0.0, 0.0, 0.0, 0.0, 0.0]   \n",
       "\n",
       "                                  nTrackSM0  \\\n",
       "0  [0.0, 0.0, 0.0, 0.0, 0.0, 0.0, 0.0, 0.0]   \n",
       "1  [0.0, 0.0, 0.0, 0.0, 0.0, 0.0, 0.0, 0.0]   \n",
       "2  [0.0, 0.0, 0.0, 0.0, 0.0, 0.0, 0.0, 0.0]   \n",
       "3  [0.0, 0.0, 0.0, 0.0, 0.0, 0.0, 0.0, 0.0]   \n",
       "\n",
       "                                          EdepCntSCT  \\\n",
       "0  [[[0.0, 0.0], [0.0, 0.0], [0.0, 0.0], [0.0, 0....   \n",
       "1  [[[0.0, 0.0], [0.0, 0.0], [0.0, 0.0], [0.0, 0....   \n",
       "2  [[[0.0, 0.0], [0.0, 0.0], [0.0, 0.0], [0.0, 0....   \n",
       "3  [[[0.0, 0.0], [0.0, 0.0], [0.0, 0.0], [0.0, 0....   \n",
       "\n",
       "                                           EdepDetNE  \\\n",
       "0  [[[484.4850158691406, 516.8804321289062, 411.3...   \n",
       "1  [[[1688.9930419921875, 1648.3756103515625, 143...   \n",
       "2  [[[1179.007080078125, 1364.9500732421875, 1572...   \n",
       "3  [[[1088.6395263671875, 1051.98583984375, 1205....   \n",
       "\n",
       "                                            TimDetNE  \\\n",
       "0  [[[[136352.890625, 136258.109375, 136239.4375,...   \n",
       "1  [[[[61049.18359375, 60952.125, 60910.125, 6092...   \n",
       "2  [[[[93722.7109375, 93293.046875, 93289.6015625...   \n",
       "3  [[[[63131.47265625, 62198.55078125, 62169.4257...   \n",
       "\n",
       "                                            EdepStNE  \\\n",
       "0  [[1755.4146728515625, 1280.5128173828125, 975....   \n",
       "1  [[6706.82470703125, 5095.81103515625, 3485.858...   \n",
       "2  [[5341.71337890625, 4321.70556640625, 2836.470...   \n",
       "3  [[4219.66259765625, 2415.139892578125, 2878.16...   \n",
       "\n",
       "                                             TimStNE  marker  \n",
       "0  [[[136375.296875, 136243.75, 136237.4375, 1362...    -1.0  \n",
       "1  [[[63138.34765625, 60913.1015625, 60909.011718...    -1.0  \n",
       "2  [[[104192.484375, 93290.578125, 93289.4296875,...    -1.0  \n",
       "3  [[[63131.47265625, 62172.51171875, 62168.00781...    -1.0  \n",
       "\n",
       "[4 rows x 50 columns]"
      ]
     },
     "execution_count": 4,
     "metadata": {},
     "output_type": "execute_result"
    }
   ],
   "source": [
    "df.head(4)"
   ]
  },
  {
   "cell_type": "code",
   "execution_count": 5,
   "metadata": {},
   "outputs": [
    {
     "data": {
      "text/html": [
       "<div>\n",
       "<style scoped>\n",
       "    .dataframe tbody tr th:only-of-type {\n",
       "        vertical-align: middle;\n",
       "    }\n",
       "\n",
       "    .dataframe tbody tr th {\n",
       "        vertical-align: top;\n",
       "    }\n",
       "\n",
       "    .dataframe thead th {\n",
       "        text-align: right;\n",
       "    }\n",
       "</style>\n",
       "<table border=\"1\" class=\"dataframe\">\n",
       "  <thead>\n",
       "    <tr style=\"text-align: right;\">\n",
       "      <th></th>\n",
       "      <th>cluster</th>\n",
       "      <th>station</th>\n",
       "      <th>X</th>\n",
       "      <th>Y</th>\n",
       "      <th>Z</th>\n",
       "    </tr>\n",
       "  </thead>\n",
       "  <tbody>\n",
       "    <tr>\n",
       "      <th>0</th>\n",
       "      <td>1</td>\n",
       "      <td>1.1</td>\n",
       "      <td>-25.359</td>\n",
       "      <td>5.885</td>\n",
       "      <td>-6.684</td>\n",
       "    </tr>\n",
       "    <tr>\n",
       "      <th>1</th>\n",
       "      <td>1</td>\n",
       "      <td>1.2</td>\n",
       "      <td>-37.609</td>\n",
       "      <td>5.885</td>\n",
       "      <td>-6.684</td>\n",
       "    </tr>\n",
       "  </tbody>\n",
       "</table>\n",
       "</div>"
      ],
      "text/plain": [
       "   cluster  station       X      Y      Z\n",
       "0        1      1.1 -25.359  5.885 -6.684\n",
       "1        1      1.2 -37.609  5.885 -6.684"
      ]
     },
     "execution_count": 5,
     "metadata": {},
     "output_type": "execute_result"
    }
   ],
   "source": [
    "coordinates_df = pd.read_csv('../data/coordinates.csv')\n",
    "coordinates_df.head(2)"
   ]
  },
  {
   "cell_type": "markdown",
   "metadata": {},
   "source": [
    "## положение оси $X_0, Y_0$ \n",
    "$$\n",
    "X_0 = \\frac{\\sum X_i \\cdot m_i}{m_i}\n",
    "$$\n",
    "\n",
    "$$\n",
    "Y_0 = \\frac{\\sum Y_i \\cdot m_i}{m_i} \n",
    "$$"
   ]
  },
  {
   "cell_type": "code",
   "execution_count": 6,
   "metadata": {},
   "outputs": [
    {
     "data": {
      "text/plain": [
       "0     4734297.0\n",
       "1    15149074.0\n",
       "2     6574410.0\n",
       "3    18120796.0\n",
       "4    11086829.0\n",
       "Name: NeNKGlong, dtype: float64"
      ]
     },
     "execution_count": 6,
     "metadata": {},
     "output_type": "execute_result"
    }
   ],
   "source": [
    "df['NeNKGlong'].head(5)"
   ]
  },
  {
   "cell_type": "code",
   "execution_count": 7,
   "metadata": {},
   "outputs": [
    {
     "data": {
      "text/plain": [
       "0    1.375637\n",
       "1    1.288089\n",
       "2    1.355909\n",
       "3    1.252712\n",
       "4    1.309551\n",
       "Name: sNKGlong, dtype: float64"
      ]
     },
     "execution_count": 7,
     "metadata": {},
     "output_type": "execute_result"
    }
   ],
   "source": [
    "df['sNKGlong'].head(5)"
   ]
  },
  {
   "cell_type": "code",
   "execution_count": 48,
   "metadata": {},
   "outputs": [],
   "source": [
    "j_event = 1"
   ]
  },
  {
   "cell_type": "code",
   "execution_count": 49,
   "metadata": {},
   "outputs": [],
   "source": [
    "E_1_event = df['EdepStNE'].iloc[j_event]\n",
    "\n",
    "theta = df['Teta'].iloc[j_event]\n",
    "phi = df['Fi'].iloc[j_event]\n",
    "\n",
    "X0_corsika = df['XAxisShift'].iloc[j_event]\n",
    "Y0_corsika = df['YAxisShift'].iloc[j_event]\n",
    "\n",
    "Ne_corsika = df['NeNKGlong'].iloc[j_event]\n",
    "s_corsika = df['sNKGlong'].iloc[j_event]\n",
    "\n",
    "X = coordinates_df['X']\n",
    "\n",
    "\n",
    "Y = coordinates_df['Y']\n",
    "\n",
    "\n",
    "Z = coordinates_df['Z']"
   ]
  },
  {
   "cell_type": "code",
   "execution_count": 50,
   "metadata": {},
   "outputs": [
    {
     "data": {
      "text/html": [
       "<div>\n",
       "<style scoped>\n",
       "    .dataframe tbody tr th:only-of-type {\n",
       "        vertical-align: middle;\n",
       "    }\n",
       "\n",
       "    .dataframe tbody tr th {\n",
       "        vertical-align: top;\n",
       "    }\n",
       "\n",
       "    .dataframe thead th {\n",
       "        text-align: right;\n",
       "    }\n",
       "</style>\n",
       "<table border=\"1\" class=\"dataframe\">\n",
       "  <thead>\n",
       "    <tr style=\"text-align: right;\">\n",
       "      <th></th>\n",
       "      <th>cluster</th>\n",
       "      <th>station</th>\n",
       "      <th>E</th>\n",
       "    </tr>\n",
       "  </thead>\n",
       "  <tbody>\n",
       "    <tr>\n",
       "      <th>0</th>\n",
       "      <td>1</td>\n",
       "      <td>1</td>\n",
       "      <td>6706.824707</td>\n",
       "    </tr>\n",
       "    <tr>\n",
       "      <th>1</th>\n",
       "      <td>1</td>\n",
       "      <td>2</td>\n",
       "      <td>5095.811035</td>\n",
       "    </tr>\n",
       "  </tbody>\n",
       "</table>\n",
       "</div>"
      ],
      "text/plain": [
       "   cluster  station            E\n",
       "0        1        1  6706.824707\n",
       "1        1        2  5095.811035"
      ]
     },
     "execution_count": 50,
     "metadata": {},
     "output_type": "execute_result"
    }
   ],
   "source": [
    "e_list = []\n",
    "for i_cluster, cluster in enumerate(E_1_event):\n",
    "    for j_station, value in enumerate(cluster):\n",
    "        e_list.append(\n",
    "            {'cluster': i_cluster+1, 'station': j_station+1, 'E': value})\n",
    "\n",
    "E_stations = pd.DataFrame(e_list)\n",
    "E_stations.head(2)"
   ]
  },
  {
   "cell_type": "code",
   "execution_count": 51,
   "metadata": {},
   "outputs": [],
   "source": [
    "X0 = np.sum(X * E_stations['E']) / np.sum(E_stations['E'])\n",
    "Y0 = np.sum(Y * E_stations['E']) / np.sum(E_stations['E'])"
   ]
  },
  {
   "cell_type": "code",
   "execution_count": 52,
   "metadata": {},
   "outputs": [
    {
     "name": "stdout",
     "output_type": "stream",
     "text": [
      "0.3331549871140427 30.001962082241125\n"
     ]
    }
   ],
   "source": [
    "print(X0, Y0)"
   ]
  },
  {
   "cell_type": "code",
   "execution_count": 53,
   "metadata": {},
   "outputs": [],
   "source": [
    "Z0 = -18"
   ]
  },
  {
   "cell_type": "markdown",
   "metadata": {},
   "source": [
    "## $r$\n",
    "Ось ШАЛ:\n",
    "\n",
    "$\n",
    " \\begin{cases}\n",
    "X = X_0 + ct \\cos{\\phi}\\sin{\\theta} \\\\\n",
    "Y = Y_0 + ct \\sin{\\phi}\\sin{\\theta} \\\\\n",
    "Z = Z_0 + ct \\cos{\\theta}\n",
    " \\end{cases}\n",
    "$\n",
    "\n",
    "Пусть станция имеет координаты $(X_s,Y_s,Z_s)$\n",
    "\n",
    "$\n",
    "r = \\frac{|\\vec{v} \\times (P - P_0)|}{|\\vec{v}|}\n",
    "$\n",
    "\n",
    "$ P_0​=(X_0​,Y_0​,Z_0​) $ — точка на оси ШАЛ\n",
    "\n",
    "$ P = (X_s,Y_s,Z_s) $ — координаты станции\n",
    "\n",
    "$ \\vec{v}=(\\cos⁡{\\phi}\\sin{\\theta},\\sin⁡{\\phi}\\sin⁡{\\theta}, \\cos⁡{\\theta})$ — направляющий вектор оси ШАЛ\n"
   ]
  },
  {
   "cell_type": "code",
   "execution_count": 54,
   "metadata": {},
   "outputs": [],
   "source": [
    "def compute_r(X0, Y0, Z0, theta, phi, coordinates_df):\n",
    "    theta = np.radians(theta)\n",
    "    phi = np.radians(phi)\n",
    "\n",
    "    v = np.array([np.cos(phi) * np.sin(theta), np.sin(phi)\n",
    "                 * np.sin(theta), np.cos(theta)])\n",
    "\n",
    "    P0 = np.array([X0, Y0, Z0])\n",
    "\n",
    "    P = np.vstack(\n",
    "        (coordinates_df['X'], coordinates_df['Y'], coordinates_df['Z'])).T\n",
    "\n",
    "    cross_product = np.cross(P - P0, v)\n",
    "\n",
    "    r = np.linalg.norm(cross_product, axis=1) / np.linalg.norm(v)\n",
    "\n",
    "    return r"
   ]
  },
  {
   "cell_type": "code",
   "execution_count": 55,
   "metadata": {},
   "outputs": [],
   "source": [
    "r = compute_r(X0, Y0, Z0, theta, phi, coordinates_df)"
   ]
  },
  {
   "cell_type": "markdown",
   "metadata": {},
   "source": [
    "## $\\rho$\n",
    "\n",
    "$ N_e = \\frac{E}{8.2 \\text{MeV}} $\n",
    "\n",
    "$ S = 0.8 \\times 0.8 \\times 4 $ \n",
    "\n",
    "$ \\rho = \\frac{N_e}{S} $\n"
   ]
  },
  {
   "cell_type": "code",
   "execution_count": 56,
   "metadata": {},
   "outputs": [],
   "source": [
    "N_e = E_stations['E'] / 8.2\n",
    "S = 0.8 * 0.8 * 4\n",
    "rho = N_e/S"
   ]
  },
  {
   "cell_type": "code",
   "execution_count": 57,
   "metadata": {},
   "outputs": [],
   "source": [
    "rho_log = np.log10(rho)"
   ]
  },
  {
   "cell_type": "code",
   "execution_count": 58,
   "metadata": {},
   "outputs": [
    {
     "data": {
      "image/png": "[encoded data removed]",
      "text/plain": [
       "<Figure size 700x400 with 1 Axes>"
      ]
     },
     "metadata": {},
     "output_type": "display_data"
    }
   ],
   "source": [
    "plt.figure(figsize=(7, 4))\n",
    "plt.scatter(r, rho_log)\n",
    "plt.xscale(\"linear\")\n",
    "# plt.yscale(\"log\")\n",
    "plt.xlabel(r'$r$, м')\n",
    "plt.ylabel(r'$\\log{\\rho}$')\n",
    "plt.title(r'$\\rho(r)$')\n",
    "plt.show()"
   ]
  },
  {
   "cell_type": "markdown",
   "metadata": {},
   "source": [
    "## функция пространственного распределения электронов\n",
    "\n",
    "$ \\rho(r) = \\frac{N_e}{2\\pi r_m^2} (\\frac{r}{r_m})^{s-2}(1+\\frac{r}{r_m})^{s-4.5} \\frac{\\Gamma(4.5-s)}{\\Gamma(s)\\Gamma(4.5-2s)}$\n",
    "\n",
    "$ r_m = 79$"
   ]
  },
  {
   "cell_type": "code",
   "execution_count": 59,
   "metadata": {},
   "outputs": [],
   "source": [
    "def rho_model(r, Ne, s, r_m=78):\n",
    "    term1 = Ne / (2 * np.pi * r_m**2)\n",
    "    term2 = (r / r_m) ** (s - 2)\n",
    "    term3 = (1 + r / r_m) ** (s - 4.5)\n",
    "    term4 = gamma(4.5 - s) / (gamma(s) * gamma(4.5 - 2 * s))\n",
    "    return term1 * term2 * term3 * term4"
   ]
  },
  {
   "cell_type": "code",
   "execution_count": 74,
   "metadata": {},
   "outputs": [],
   "source": [
    "import math"
   ]
  },
  {
   "cell_type": "code",
   "execution_count": 88,
   "metadata": {},
   "outputs": [],
   "source": [
    "def loss_function(params, coordinates_df, rho, theta, phi, Z0):\n",
    "    X0, Y0, Ne, s = params\n",
    "    r = compute_r(X0, Y0, Z0, theta, phi, coordinates_df)\n",
    "    rho_calc = rho_model(r, Ne, s)\n",
    "    return np.mean((rho_calc - rho) ** 2)"
   ]
  },
  {
   "cell_type": "code",
   "execution_count": 89,
   "metadata": {},
   "outputs": [],
   "source": [
    "# Начальные приближения параметров\n",
    "initial_params = [10, 10, 1e4, 1.5]  # X0, Y0, Ne, s\n",
    "bounds = [\n",
    "    (-100, 100),\n",
    "    (-100, 100),\n",
    "    (1, 1e9),\n",
    "    (1, 3)\n",
    "]  # Границы для оптимизации"
   ]
  },
  {
   "cell_type": "code",
   "execution_count": 90,
   "metadata": {},
   "outputs": [],
   "source": [
    "result = minimize(loss_function, initial_params, args=(\n",
    "    coordinates_df, rho, theta, phi, Z0), bounds=bounds, method=\"Nelder-Mead\")"
   ]
  },
  {
   "cell_type": "code",
   "execution_count": 91,
   "metadata": {},
   "outputs": [],
   "source": [
    "result = differential_evolution(loss_function, bounds, args=(\n",
    "    coordinates_df, rho, theta, phi, Z0))"
   ]
  },
  {
   "cell_type": "code",
   "execution_count": 92,
   "metadata": {},
   "outputs": [
    {
     "name": "stdout",
     "output_type": "stream",
     "text": [
      "Оптимальные параметры: X0=5.715121123705336, Y0=43.02345764389883, Ne=15398815.62821765, s=1.0789081549732569\n"
     ]
    }
   ],
   "source": [
    "X0_opt, Y0_opt, Ne_opt, s_opt = result.x\n",
    "print(\n",
    "    f\"Оптимальные параметры: X0={X0_opt}, Y0={Y0_opt}, Ne={Ne_opt}, s={s_opt}\")"
   ]
  },
  {
   "cell_type": "code",
   "execution_count": 65,
   "metadata": {},
   "outputs": [
    {
     "name": "stdout",
     "output_type": "stream",
     "text": [
      "13.35679428178206\n"
     ]
    }
   ],
   "source": [
    "print(np.min(r))"
   ]
  },
  {
   "cell_type": "code",
   "execution_count": 66,
   "metadata": {},
   "outputs": [
    {
     "name": "stdout",
     "output_type": "stream",
     "text": [
      "10.037866775745814\n"
     ]
    }
   ],
   "source": [
    "print(np.min(r_opt))"
   ]
  },
  {
   "cell_type": "code",
   "execution_count": 93,
   "metadata": {},
   "outputs": [
    {
     "data": {
      "image/png": "[encoded data removed]",
      "text/plain": [
       "<Figure size 1000x500 with 1 Axes>"
      ]
     },
     "metadata": {},
     "output_type": "display_data"
    }
   ],
   "source": [
    "r_opt = compute_r(X0_opt, Y0_opt, Z0, theta, phi, coordinates_df)\n",
    "r_corsika = compute_r(X0_corsika, Y0_corsika, Z0, theta, phi, coordinates_df)\n",
    "rho_fit = rho_model(r_opt, Ne_opt, s_opt)\n",
    "\n",
    "plt.figure(figsize=(10, 5))\n",
    "plt.scatter(r_corsika, rho, label=\"corsika\")\n",
    "\n",
    "plt.scatter(r_opt, rho_fit, label=\"ФПР\")\n",
    "\n",
    "plt.scatter(r, rho, label=\"1 приближение\")\n",
    "plt.xscale(\"linear\")\n",
    "plt.yscale(\"log\")\n",
    "plt.xlabel(r\"$r$\")\n",
    "plt.ylabel(r\"$\\rho$\")\n",
    "plt.legend()\n",
    "plt.show()"
   ]
  },
  {
   "cell_type": "code",
   "execution_count": 94,
   "metadata": {},
   "outputs": [
    {
     "name": "stdout",
     "output_type": "stream",
     "text": [
      "0.967, 0.333, 5.715\n",
      "53.281, 30.002, 43.023\n",
      "Ne_corsika = 1.5e+07, Ne_opt = 1.5e+07\n",
      "s_corsika = 1.288, s_opt = 1.079\n"
     ]
    },
    {
     "ename": "",
     "evalue": "",
     "output_type": "error",
     "traceback": [
      "\u001b[1;31mThe Kernel crashed while executing code in the current cell or a previous cell. \n",
      "\u001b[1;31mPlease review the code in the cell(s) to identify a possible cause of the failure. \n",
      "\u001b[1;31mClick <a href='https://aka.ms/vscodeJupyterKernelCrash'>here</a> for more info. \n",
      "\u001b[1;31mView Jupyter <a href='command:jupyter.viewOutput'>log</a> for further details."
     ]
    }
   ],
   "source": [
    "print(f'{X0_corsika:.3f}, {X0:.3f}, {X0_opt:.3f}')\n",
    "print(f'{Y0_corsika:.3f}, {Y0:.3f}, {Y0_opt:.3f}')\n",
    "\n",
    "print(f\"Ne_corsika = {Ne_corsika:.1e}, Ne_opt = {Ne_opt:.1e}\")\n",
    "print(f\"s_corsika = {s_corsika:.3f}, s_opt = {s_opt:.3f}\")"
   ]
  },
  {
   "cell_type": "code",
   "execution_count": null,
   "metadata": {},
   "outputs": [],
   "source": []
  }
 ],
 "metadata": {
  "kernelspec": {
   "display_name": "base",
   "language": "python",
   "name": "python3"
  },
  "language_info": {
   "codemirror_mode": {
    "name": "ipython",
    "version": 3
   },
   "file_extension": ".py",
   "mimetype": "text/x-python",
   "name": "python",
   "nbconvert_exporter": "python",
   "pygments_lexer": "ipython3",
   "version": "3.12.3"
  }
 },
 "nbformat": 4,
 "nbformat_minor": 2
}
