{
 "cells": [
  {
   "cell_type": "code",
   "execution_count": 1,
   "metadata": {},
   "outputs": [],
   "source": [
    "import numpy as np\n",
    "import pandas as pd"
   ]
  },
  {
   "cell_type": "code",
   "execution_count": 2,
   "metadata": {},
   "outputs": [],
   "source": [
    "model_number = 'p1500'"
   ]
  },
  {
   "cell_type": "code",
   "execution_count": 3,
   "metadata": {},
   "outputs": [],
   "source": [
    "file_path = f\"data/{model_number}_2022.dat\"\n",
    "data = np.fromfile(file_path, dtype=np.float32)"
   ]
  },
  {
   "cell_type": "code",
   "execution_count": 4,
   "metadata": {},
   "outputs": [],
   "source": [
    "columns = [\n",
    "    \"N_event\", \"NRUN\", \"NEVENT\", \"PART0\", \"E0\", \"Teta\", \"Fi\", \"XAxisShift\", \"YAxisShift\", \"H1INT\",\n",
    "    \"NGAM\", \"NEL\", \"NHADR\", \"NMU\", \"NeNKGlong\", \"sNKGlong\", \"NVD_edep\", \"NVD_npe\", \"MuBundle\", \"MuTrackLenNVD\",\n",
    "    \"nMuNVD\", \"eMuNVD\", \"eMuNVD1\", \"muDCR\", \"muSM\", \"nSM\", \"muDCRw\", \"muSMw\", \"nSMw\",\n",
    "    \"muDCR0\", \"muSM0\", \"nSM0\", \"muDCRw0\", \"muSMw0\", \"nSMw0\",\n",
    "    \"AmplKSM\", \"hSM\", \"nTrackSMX\", \"nTrackSMY\", \"nTrackSM\", \"hSM0\", \"nTrackSMX0\", \"nTrackSMY0\", \"nTrackSM0\",\n",
    "    \"EdepCntSCT\", \"EdepDetNE\", \"TimDetNE\", \"EdepStNE\", \"TimStNE\", \"marker\"\n",
    "]"
   ]
  },
  {
   "cell_type": "code",
   "execution_count": 5,
   "metadata": {},
   "outputs": [],
   "source": [
    "sizes = {\n",
    "    \"AmplKSM\": (7, 4, 4, 6),\n",
    "    \"hSM\": (8,),\n",
    "    \"nTrackSMX\": (8,),\n",
    "    \"nTrackSMY\": (8,),\n",
    "    \"nTrackSM\": (8,),\n",
    "    \"hSM0\": (8,),\n",
    "    \"nTrackSMX0\": (8,),\n",
    "    \"nTrackSMY0\": (8,),\n",
    "    \"nTrackSM0\": (8,),\n",
    "    \"EdepCntSCT\": (9, 5, 2),\n",
    "    \"EdepDetNE\": (9, 4, 4),\n",
    "    \"TimDetNE\": (9, 4, 4, 4),\n",
    "    \"EdepStNE\": (9, 4),\n",
    "    \"TimStNE\": (9, 4, 4),\n",
    "}"
   ]
  },
  {
   "cell_type": "code",
   "execution_count": null,
   "metadata": {},
   "outputs": [
    {
     "ename": "",
     "evalue": "",
     "output_type": "error",
     "traceback": [
      "\u001b[1;31mThe Kernel crashed while executing code in the current cell or a previous cell. \n",
      "\u001b[1;31mPlease review the code in the cell(s) to identify a possible cause of the failure. \n",
      "\u001b[1;31mClick <a href='https://aka.ms/vscodeJupyterKernelCrash'>here</a> for more info. \n",
      "\u001b[1;31mView Jupyter <a href='command:jupyter.viewOutput'>log</a> for further details."
     ]
    }
   ],
   "source": [
    "events = []\n",
    "current_event = []\n",
    "index = 0\n",
    "\n",
    "while index < len(data):\n",
    "    if data[index] == -1:\n",
    "        if current_event:\n",
    "            events.append(current_event)\n",
    "            current_event = []\n",
    "        index += 1\n",
    "        continue\n",
    "\n",
    "    scalars = list(data[index:index + 35])\n",
    "    index += 35\n",
    "\n",
    "    arrays = {}\n",
    "    for key, shape in sizes.items():\n",
    "        size = np.prod(shape)\n",
    "        arrays[key] = data[index:index + size].reshape(shape).tolist()\n",
    "        index += size\n",
    "\n",
    "    marker = data[index] if index < len(data) else -1\n",
    "    index += 1\n",
    "\n",
    "    event = scalars + [arrays[key] for key in sizes] + [marker]\n",
    "    events.append(event)\n",
    "\n",
    "df = pd.DataFrame(events, columns=columns)\n",
    "\n",
    "output_path = f'csv_output/{model_number}_2022.csv'\n",
    "df.to_csv(output_path, index=False)"
   ]
  },
  {
   "cell_type": "code",
   "execution_count": null,
   "metadata": {},
   "outputs": [],
   "source": []
  }
 ],
 "metadata": {
  "kernelspec": {
   "display_name": "base",
   "language": "python",
   "name": "python3"
  },
  "language_info": {
   "codemirror_mode": {
    "name": "ipython",
    "version": 3
   },
   "file_extension": ".py",
   "mimetype": "text/x-python",
   "name": "python",
   "nbconvert_exporter": "python",
   "pygments_lexer": "ipython3",
   "version": "3.12.3"
  }
 },
 "nbformat": 4,
 "nbformat_minor": 2
}
