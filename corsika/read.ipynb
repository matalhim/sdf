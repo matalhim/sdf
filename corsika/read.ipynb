{
 "cells": [
  {
   "cell_type": "code",
   "execution_count": 109,
   "metadata": {},
   "outputs": [],
   "source": [
    "import matplotlib.pyplot as plt\n",
    "from mpl_toolkits.mplot3d import Axes3D\n",
    "import pandas as pd\n",
    "import numpy as np\n",
    "from corsikaio import CorsikaFile\n",
    "import re\n",
    "import os\n",
    "import matplotlib.animation as animation"
   ]
  },
  {
   "cell_type": "code",
   "execution_count": 102,
   "metadata": {},
   "outputs": [],
   "source": [
    "filename = 'pDAT143000'\n",
    "metadata_filename = 'pDAT143000.dbase'\n",
    "file_path = f'data/p30/{filename}' \n",
    "metadata_file_path = f'data/p30/{metadata_filename}' \n",
    "\n",
    "save_path = 'csv_otput/pDAT143000_output' "
   ]
  },
  {
   "cell_type": "code",
   "execution_count": 104,
   "metadata": {},
   "outputs": [],
   "source": [
    "os.makedirs(save_path, exist_ok=True) "
   ]
  },
  {
   "cell_type": "code",
   "execution_count": 105,
   "metadata": {},
   "outputs": [],
   "source": [
    "def parse_metadata(file_path):\n",
    "    metadata = {}\n",
    "\n",
    "    with open(file_path, 'r') as f:\n",
    "        for line in f:\n",
    "            line = line.strip() \n",
    "\n",
    "            match = re.search(r'#howmanyshowers#\\s*(\\d+)', line)\n",
    "            if match:\n",
    "                metadata['howmanyshowers'] = int(match.group(1))\n",
    "\n",
    "            match = re.search(r'#energy_prim#\\s*([\\d\\.eE\\+\\-]+)', line)\n",
    "            if match:\n",
    "                metadata['energy_prim'] = float(match.group(1))\n",
    "\n",
    "            match = re.search(r'#theta_prim#\\s*([\\d\\.eE\\+\\-]+)', line)\n",
    "            if match:\n",
    "                metadata['theta_prim'] = float(match.group(1))\n",
    "\n",
    "            match = re.search(r'#phi_prim#\\s*([\\d\\.eE\\+\\-]+)', line)\n",
    "            if match:\n",
    "                metadata['phi_prim'] = float(match.group(1))\n",
    "\n",
    "            match = re.search(r'#dsn_events#\\s*(\\S+)', line)\n",
    "            if match:\n",
    "                metadata['dsn_events'] = match.group(1)\n",
    "\n",
    "    return metadata"
   ]
  },
  {
   "cell_type": "code",
   "execution_count": 106,
   "metadata": {},
   "outputs": [],
   "source": [
    "PID_MAP = {\n",
    "    1: \"gamma\", 2: \"e-\", 3: \"e+\", 4: \"ν_e\", 5: \"μ-\", 6: \"μ+\",\n",
    "    7: \"π⁰\", 8: \"π+\", 9: \"π-\", 13: \"n\", 14: \"p\", 75: \"Fe\",\n",
    "    25: \"Λ⁰\", 35: \"Σ⁺\", 45: \"Ξ⁰\", 55: \"Ω⁻\", 65: \"anti-proton\",\n",
    "}\n",
    "\n",
    "def pid_name(pid_raw):\n",
    "    \"\"\"Преобразует 'сырой' PID в читаемое имя\"\"\"\n",
    "    base_pid = pid_raw // 1000\n",
    "    return PID_MAP.get(base_pid, f\"unknown({base_pid})\")\n"
   ]
  },
  {
   "cell_type": "code",
   "execution_count": null,
   "metadata": {},
   "outputs": [],
   "source": [
    "def save_event_data(event_idx, particles, header, save_path):\n",
    "    theta_prim = header.get('theta_prim', 0)\n",
    "    phi_prim = header.get('phi_prim', 0)\n",
    "    energy_prim = header.get('energy_prim', 0)\n",
    "    \n",
    "    event_data = []\n",
    "\n",
    "    has_time = particles.shape[1] > 7 \n",
    "\n",
    "    for p in particles:\n",
    "        raw_pid = int(p[0])\n",
    "        base_pid = raw_pid // 1000\n",
    "        name = pid_name(raw_pid)\n",
    "        \n",
    "        px, py, pz = p[1], p[2], p[3]\n",
    "        x, y, z = p[4] / 100, p[5] / 100, p[6] \n",
    "\n",
    "        energy = np.sqrt(px**2 + py**2 + pz**2)\n",
    "        \n",
    "        time = p[7] if has_time else None\n",
    "        event_data.append({\n",
    "            'event_id': event_idx,\n",
    "            'particle_name': name,\n",
    "            'pid': base_pid,\n",
    "            'x': x,\n",
    "            'y': y,\n",
    "            'z': z,\n",
    "            'energy': energy,\n",
    "            'theta_prim': theta_prim,\n",
    "            'phi_prim': phi_prim,\n",
    "            'energy_prim': energy_prim,\n",
    "            'time': time \n",
    "        })\n",
    "    "
   ]
  },
  {
   "cell_type": "code",
   "execution_count": 114,
   "metadata": {},
   "outputs": [],
   "source": [
    "with CorsikaFile(file_path) as f:\n",
    "    for event_idx, event in enumerate(f):\n",
    "        header = event.header\n",
    "        particles = event.data\n",
    "        \n",
    "        metadata = parse_metadata(metadata_file_path) \n",
    "        if isinstance(header, np.void):\n",
    "            header = {field: header[field] for field in header.dtype.names}\n",
    "        \n",
    "        header.update(metadata) \n",
    "        save_event_data(event_idx, particles, header, save_path)"
   ]
  }
 ],
 "metadata": {
  "kernelspec": {
   "display_name": "base",
   "language": "python",
   "name": "python3"
  },
  "language_info": {
   "codemirror_mode": {
    "name": "ipython",
    "version": 3
   },
   "file_extension": ".py",
   "mimetype": "text/x-python",
   "name": "python",
   "nbconvert_exporter": "python",
   "pygments_lexer": "ipython3",
   "version": "3.12.3"
  }
 },
 "nbformat": 4,
 "nbformat_minor": 2
}
