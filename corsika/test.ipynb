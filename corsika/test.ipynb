{
 "cells": [
  {
   "cell_type": "code",
   "execution_count": 29,
   "metadata": {},
   "outputs": [],
   "source": [
    "import pandas as pd\n",
    "import numpy as np\n",
    "import matplotlib.pyplot as plt\n",
    "\n",
    "from scipy.optimize import minimize\n",
    "from scipy.special import gamma\n",
    "from scipy.optimize import differential_evolution\n",
    "\n",
    "from joblib import Parallel, delayed\n",
    "from tqdm import tqdm"
   ]
  },
  {
   "cell_type": "code",
   "execution_count": 14,
   "metadata": {},
   "outputs": [],
   "source": [
    "np.random.seed(42)\n",
    "plt.style.use('ggplot')"
   ]
  },
  {
   "cell_type": "code",
   "execution_count": 15,
   "metadata": {},
   "outputs": [
    {
     "data": {
      "text/html": [
       "<div>\n",
       "<style scoped>\n",
       "    .dataframe tbody tr th:only-of-type {\n",
       "        vertical-align: middle;\n",
       "    }\n",
       "\n",
       "    .dataframe tbody tr th {\n",
       "        vertical-align: top;\n",
       "    }\n",
       "\n",
       "    .dataframe thead th {\n",
       "        text-align: right;\n",
       "    }\n",
       "</style>\n",
       "<table border=\"1\" class=\"dataframe\">\n",
       "  <thead>\n",
       "    <tr style=\"text-align: right;\">\n",
       "      <th></th>\n",
       "      <th>cluster</th>\n",
       "      <th>station</th>\n",
       "      <th>X</th>\n",
       "      <th>Y</th>\n",
       "      <th>Z</th>\n",
       "    </tr>\n",
       "  </thead>\n",
       "  <tbody>\n",
       "    <tr>\n",
       "      <th>0</th>\n",
       "      <td>1</td>\n",
       "      <td>1.1</td>\n",
       "      <td>-25.359</td>\n",
       "      <td>5.885</td>\n",
       "      <td>-6.684</td>\n",
       "    </tr>\n",
       "  </tbody>\n",
       "</table>\n",
       "</div>"
      ],
      "text/plain": [
       "   cluster  station       X      Y      Z\n",
       "0        1      1.1 -25.359  5.885 -6.684"
      ]
     },
     "execution_count": 15,
     "metadata": {},
     "output_type": "execute_result"
    }
   ],
   "source": [
    "coordinates_df = pd.read_csv('../data/coordinates.csv')\n",
    "coordinates_df.head(1)"
   ]
  },
  {
   "cell_type": "code",
   "execution_count": 17,
   "metadata": {},
   "outputs": [],
   "source": [
    "theta = 30\n",
    "phi = 10\n",
    "\n",
    "X0 = 0\n",
    "Y0 = 0\n",
    "Z0 = -18\n",
    "\n",
    "s = 1.3\n",
    "Ne = 1.1e7"
   ]
  },
  {
   "cell_type": "code",
   "execution_count": 18,
   "metadata": {},
   "outputs": [],
   "source": [
    "def compute_r(X0, Y0, Z0, theta, phi, coordinates_df):\n",
    "    theta = np.radians(theta)\n",
    "    phi = np.radians(phi)\n",
    "\n",
    "    v = np.array([np.cos(phi) * np.sin(theta), np.sin(phi)\n",
    "                 * np.sin(theta), np.cos(theta)])\n",
    "\n",
    "    P0 = np.array([X0, Y0, Z0])\n",
    "\n",
    "    P = np.vstack(\n",
    "        (coordinates_df['X'], coordinates_df['Y'], coordinates_df['Z'])).T\n",
    "\n",
    "    cross_product = np.cross(P - P0, v)\n",
    "\n",
    "    r = np.linalg.norm(cross_product, axis=1) / np.linalg.norm(v)\n",
    "\n",
    "    return r"
   ]
  },
  {
   "cell_type": "code",
   "execution_count": 19,
   "metadata": {},
   "outputs": [],
   "source": [
    "def rho_model(r, Ne, s, r_m=78):\n",
    "    term1 = Ne / (2 * np.pi * r_m**2)\n",
    "    term2 = (r / r_m) ** (s - 2)\n",
    "    term3 = (1 + r / r_m) ** (s - 4.5)\n",
    "    term4 = gamma(4.5 - s) / (gamma(s) * gamma(4.5 - 2 * s))\n",
    "    return term1 * term2 * term3 * term4"
   ]
  },
  {
   "cell_type": "code",
   "execution_count": 20,
   "metadata": {},
   "outputs": [],
   "source": [
    "def loss_function(params, coordinates_df, rho, theta, phi, Z0):\n",
    "    X0, Y0, Ne, s = params\n",
    "    r = compute_r(X0, Y0, Z0, theta, phi, coordinates_df)\n",
    "    rho_calc = rho_model(r, Ne, s)\n",
    "    return np.mean((rho_calc - rho) ** 2)"
   ]
  },
  {
   "cell_type": "code",
   "execution_count": 21,
   "metadata": {},
   "outputs": [],
   "source": [
    "r = compute_r(X0, Y0, Z0, theta, phi, coordinates_df)"
   ]
  },
  {
   "cell_type": "code",
   "execution_count": 22,
   "metadata": {},
   "outputs": [
    {
     "data": {
      "image/png": "[encoded data removed]",
      "text/plain": [
       "<Figure size 1000x500 with 1 Axes>"
      ]
     },
     "metadata": {},
     "output_type": "display_data"
    }
   ],
   "source": [
    "rho = rho_model(r, Ne, s)\n",
    "\n",
    "plt.figure(figsize=(10, 5))\n",
    "plt.scatter(r, rho, label=\"ФПР\")\n",
    "plt.xscale(\"linear\")\n",
    "plt.yscale(\"log\")\n",
    "plt.xlabel(r\"$r$\")\n",
    "plt.ylabel(r\"$\\rho$\")\n",
    "plt.legend()\n",
    "plt.show()"
   ]
  },
  {
   "cell_type": "code",
   "execution_count": 52,
   "metadata": {},
   "outputs": [],
   "source": [
    "# Начальные приближения параметров\n",
    "initial_params = [2.37,  -1.91,  8498223, 1.3297]  # X0, Y0, Ne, s\n",
    "bounds = [\n",
    "    (-50, 50),\n",
    "    (-80, 80),\n",
    "    (1, 1e8),\n",
    "    (1.2, 1.5)\n",
    "]  # Границы для оптимизации"
   ]
  },
  {
   "cell_type": "code",
   "execution_count": 24,
   "metadata": {},
   "outputs": [],
   "source": [
    "result = differential_evolution(loss_function, bounds, args=(\n",
    "    coordinates_df, rho, theta, phi, Z0))"
   ]
  },
  {
   "cell_type": "code",
   "execution_count": 25,
   "metadata": {},
   "outputs": [
    {
     "name": "stdout",
     "output_type": "stream",
     "text": [
      "Оптимальные параметры: X0=0.0, Y0=0.0, Ne=11000000.0, s=1.3\n"
     ]
    }
   ],
   "source": [
    "X0_opt, Y0_opt, Ne_opt, s_opt = result.x\n",
    "print(\n",
    "    f\"Оптимальные параметры: X0={X0_opt}, Y0={Y0_opt}, Ne={Ne_opt}, s={s_opt}\")"
   ]
  },
  {
   "cell_type": "code",
   "execution_count": 26,
   "metadata": {},
   "outputs": [
    {
     "data": {
      "image/png": "[encoded data removed]",
      "text/plain": [
       "<Figure size 1000x500 with 1 Axes>"
      ]
     },
     "metadata": {},
     "output_type": "display_data"
    }
   ],
   "source": [
    "r_values = np.linspace(min(r), max(r), 100)\n",
    "rho_values = rho_model(r_values, Ne, s)\n",
    "\n",
    "r_opt = compute_r(X0_opt, Y0_opt, Z0, theta, phi, coordinates_df)\n",
    "rho_fit = rho_model(r_opt, Ne_opt, s_opt)\n",
    "\n",
    "plt.figure(figsize=(10, 5))\n",
    "plt.plot(r_values, rho_values, label=r'$\\rho(r)$', color=\"red\")\n",
    "plt.scatter(r_opt, rho_fit, label=\"ФПР\", s=30)\n",
    "plt.xscale(\"linear\")\n",
    "plt.yscale(\"log\")\n",
    "plt.xlabel(r\"$r$\")\n",
    "plt.ylabel(r\"$\\rho$\")\n",
    "plt.legend()\n",
    "plt.show()"
   ]
  },
  {
   "cell_type": "markdown",
   "metadata": {},
   "source": [
    "Отгенеририм много событий"
   ]
  },
  {
   "cell_type": "code",
   "execution_count": 53,
   "metadata": {},
   "outputs": [],
   "source": [
    "Z0 = -18\n",
    "num_events = 1000\n",
    "\n",
    "theta = np.round(np.random.uniform(0, 70, num_events), 1)\n",
    "phi = np.round(np.random.uniform(190, 350, num_events), 1)\n",
    "X0 = np.round(np.random.uniform(-50, 50, num_events), 1)\n",
    "Y0 = np.round(np.random.uniform(-70, 70, num_events), 1)\n",
    "Ne = np.round(np.random.uniform(1e5, 1e8, num_events), -3)\n",
    "s = np.round(np.random.uniform(1.2, 1.5, num_events), 1)"
   ]
  },
  {
   "cell_type": "code",
   "execution_count": 54,
   "metadata": {},
   "outputs": [
    {
     "data": {
      "text/html": [
       "<div>\n",
       "<style scoped>\n",
       "    .dataframe tbody tr th:only-of-type {\n",
       "        vertical-align: middle;\n",
       "    }\n",
       "\n",
       "    .dataframe tbody tr th {\n",
       "        vertical-align: top;\n",
       "    }\n",
       "\n",
       "    .dataframe thead th {\n",
       "        text-align: right;\n",
       "    }\n",
       "</style>\n",
       "<table border=\"1\" class=\"dataframe\">\n",
       "  <thead>\n",
       "    <tr style=\"text-align: right;\">\n",
       "      <th></th>\n",
       "      <th>theta</th>\n",
       "      <th>phi</th>\n",
       "      <th>X0</th>\n",
       "      <th>Y0</th>\n",
       "      <th>Z0</th>\n",
       "      <th>Ne</th>\n",
       "      <th>s</th>\n",
       "    </tr>\n",
       "  </thead>\n",
       "  <tbody>\n",
       "    <tr>\n",
       "      <th>0</th>\n",
       "      <td>46.0</td>\n",
       "      <td>292.7</td>\n",
       "      <td>5.7</td>\n",
       "      <td>68.1</td>\n",
       "      <td>-18</td>\n",
       "      <td>22496000.0</td>\n",
       "      <td>1.4</td>\n",
       "    </tr>\n",
       "    <tr>\n",
       "      <th>1</th>\n",
       "      <td>55.2</td>\n",
       "      <td>245.2</td>\n",
       "      <td>-37.0</td>\n",
       "      <td>-53.4</td>\n",
       "      <td>-18</td>\n",
       "      <td>2120000.0</td>\n",
       "      <td>1.4</td>\n",
       "    </tr>\n",
       "    <tr>\n",
       "      <th>2</th>\n",
       "      <td>54.3</td>\n",
       "      <td>229.3</td>\n",
       "      <td>24.5</td>\n",
       "      <td>40.6</td>\n",
       "      <td>-18</td>\n",
       "      <td>16170000.0</td>\n",
       "      <td>1.4</td>\n",
       "    </tr>\n",
       "  </tbody>\n",
       "</table>\n",
       "</div>"
      ],
      "text/plain": [
       "   theta    phi    X0    Y0  Z0          Ne    s\n",
       "0   46.0  292.7   5.7  68.1 -18  22496000.0  1.4\n",
       "1   55.2  245.2 -37.0 -53.4 -18   2120000.0  1.4\n",
       "2   54.3  229.3  24.5  40.6 -18  16170000.0  1.4"
      ]
     },
     "execution_count": 54,
     "metadata": {},
     "output_type": "execute_result"
    }
   ],
   "source": [
    "data = pd.DataFrame({\n",
    "    \"theta\": theta,\n",
    "    \"phi\": phi,\n",
    "    \"X0\": X0,\n",
    "    \"Y0\": Y0,\n",
    "    \"Z0\": Z0,\n",
    "    \"Ne\": Ne,\n",
    "    \"s\": s\n",
    "})\n",
    "\n",
    "data.head(3)"
   ]
  },
  {
   "cell_type": "code",
   "execution_count": 55,
   "metadata": {},
   "outputs": [],
   "source": [
    "def process_event(event, coordinates_df, bounds):\n",
    "    r = compute_r(\n",
    "        event['X0'], event['Y0'], event['Z0'], event['theta'], event['phi'], coordinates_df\n",
    "    )\n",
    "    rho = rho_model(r, event['Ne'], event['s'])\n",
    "    result = differential_evolution(\n",
    "        loss_function, bounds, args=(\n",
    "            coordinates_df, rho, event['theta'], event['phi'], event['Z0'])\n",
    "    )\n",
    "    X0_opt, Y0_opt, Ne_opt, s_opt = result.x\n",
    "    return r, rho, X0_opt, Y0_opt, Ne_opt, s_opt"
   ]
  },
  {
   "cell_type": "code",
   "execution_count": 56,
   "metadata": {},
   "outputs": [],
   "source": [
    "def main(data, coordinates_df, bounds, n_jobs=-1):\n",
    "    results = Parallel(n_jobs=n_jobs)(\n",
    "        delayed(process_event)(event, coordinates_df, bounds)\n",
    "        for _, event in tqdm(data.iterrows(), total=len(data), desc='~')\n",
    "    )\n",
    "\n",
    "    r_values, rho_values, X0_opt_values, Y0_opt_values, Ne_opt_values, s_opt_values = zip(\n",
    "        *results)\n",
    "\n",
    "    return (\n",
    "        list(r_values), list(rho_values), list(X0_opt_values),\n",
    "        list(Y0_opt_values), list(Ne_opt_values), list(s_opt_values)\n",
    "    )"
   ]
  },
  {
   "cell_type": "code",
   "execution_count": 58,
   "metadata": {},
   "outputs": [
    {
     "name": "stderr",
     "output_type": "stream",
     "text": [
      "\n",
      "\u001b[A\n",
      "\u001b[A\n",
      "\u001b[A\n",
      "\u001b[A\n",
      "\u001b[A\n",
      "\u001b[A\n",
      "\u001b[A\n",
      "\u001b[A\n",
      "\u001b[A\n",
      "\u001b[A\n",
      "\u001b[A\n",
      "\u001b[A\n",
      "\u001b[A\n",
      "\u001b[A\n",
      "\u001b[A\n",
      "\u001b[A\n",
      "\u001b[A\n",
      "\u001b[A\n",
      "\u001b[A\n",
      "\u001b[A\n",
      "\u001b[A\n",
      "\u001b[A\n",
      "\u001b[A\n",
      "\u001b[A\n",
      "\u001b[A\n",
      "\u001b[A\n",
      "\u001b[A\n",
      "\u001b[A\n",
      "\u001b[A\n",
      "\u001b[A\n",
      "\u001b[A\n",
      "\u001b[A\n",
      "\u001b[A\n",
      "\u001b[A\n",
      "\u001b[A\n",
      "\u001b[A\n",
      "\u001b[A\n",
      "\u001b[A\n",
      "\u001b[A\n",
      "\u001b[A\n",
      "\u001b[A\n",
      "\u001b[A\n",
      "\u001b[A\n",
      "\u001b[A\n",
      "\u001b[A\n",
      "\u001b[A\n",
      "\u001b[A\n",
      "\u001b[A\n",
      "\u001b[A\n",
      "\u001b[A\n",
      "\u001b[A\n",
      "\u001b[A\n",
      "\u001b[A\n",
      "\u001b[A\n",
      "\u001b[A\n",
      "\u001b[A\n",
      "\u001b[A\n",
      "\u001b[A\n",
      "\u001b[A\n",
      "\u001b[A\n",
      "\u001b[A\n",
      "\u001b[A\n",
      "\u001b[A\n",
      "\u001b[A\n",
      "\u001b[A\n",
      "\u001b[A\n",
      "\u001b[A\n",
      "\u001b[A\n",
      "\u001b[A\n",
      "\u001b[A\n",
      "\u001b[A\n",
      "\u001b[A\n",
      "\u001b[A\n",
      "\u001b[A\n",
      "\u001b[A\n",
      "\u001b[A\n",
      "\u001b[A\n",
      "\u001b[A\n",
      "\u001b[A\n",
      "\u001b[A\n",
      "\u001b[A\n",
      "\u001b[A\n",
      "~: 100%|██████████| 1000/1000 [15:44<00:00,  1.06it/s]\n"
     ]
    }
   ],
   "source": [
    "r_values, rho_values, X0_opt_values, Y0_opt_values, Ne_opt_values, s_opt_values = main(\n",
    "    data, coordinates_df, bounds)"
   ]
  },
  {
   "cell_type": "code",
   "execution_count": 59,
   "metadata": {},
   "outputs": [],
   "source": [
    "X0_opt = np.array(X0_opt_values)\n",
    "Y0_opt = np.array(Y0_opt_values)\n",
    "Ne_opt = np.array(Ne_opt_values)\n",
    "s_opt = np.array(s_opt_values)"
   ]
  },
  {
   "cell_type": "code",
   "execution_count": 61,
   "metadata": {},
   "outputs": [],
   "source": [
    "X0_diff = X0_opt - X0\n",
    "Y0_diff = Y0_opt - Y0\n",
    "Ne_diff = (Ne_opt - Ne) / Ne\n",
    "s_diff = s_opt - s"
   ]
  },
  {
   "cell_type": "code",
   "execution_count": null,
   "metadata": {},
   "outputs": [
    {
     "data": {
      "image/png": "[encoded data removed]",
      "text/plain": [
       "<Figure size 1200x800 with 4 Axes>"
      ]
     },
     "metadata": {},
     "output_type": "display_data"
    }
   ],
   "source": [
    "interval_delta_r = 0.05\n",
    "interval_delta_s = 0.005\n",
    "interval_delta_Ne = 0.005\n",
    "\n",
    "bin_edges_delta_r = np.arange(-0.2, 0.2, interval_delta_r)\n",
    "bin_edges_delta_s = np.arange(-0.01, 0.011, interval_delta_s)\n",
    "bin_edges_delta_Ne = np.arange(0, 0.015, interval_delta_Ne)\n",
    "\n",
    "plt.figure(figsize=(12, 8))\n",
    "\n",
    "\n",
    "plt.subplot(2, 2, 1)\n",
    "\n",
    "plt.hist(X0_diff, bins=bin_edges_delta_r, color='blue', alpha=0.7)\n",
    "\n",
    "plt.xlabel(r'$\\Delta X_0 = X_{0_{\\text{вост}}} - X_{0}$, м')\n",
    "\n",
    "plt.ylabel('частота')\n",
    "\n",
    "\n",
    "plt.subplot(2, 2, 2)\n",
    "\n",
    "plt.hist(Y0_diff, bins=bin_edges_delta_r, color='green', alpha=0.7)\n",
    "\n",
    "plt.xlabel(r'$\\Delta Y_0 = Y_{0_{\\text{вост}}} - Y_{0}$, м')\n",
    "\n",
    "plt.ylabel('частота')\n",
    "\n",
    "\n",
    "plt.subplot(2, 2, 3)\n",
    "\n",
    "plt.hist(Ne_diff, bins=bin_edges_delta_Ne, color='red', alpha=0.7)\n",
    "\n",
    "plt.title(' Ne - Ne_opt')\n",
    "\n",
    "plt.xlabel(\n",
    "    r'$\\dfrac{N_{e_{\\text{вост}}} - N_{e}}{N_{e}}$')\n",
    "\n",
    "plt.ylabel('частота')\n",
    "\n",
    "\n",
    "plt.subplot(2, 2, 4)\n",
    "\n",
    "plt.hist(s_diff, bins=bin_edges_delta_s, color='purple', alpha=0.7)\n",
    "\n",
    "plt.xlabel(r'$\\Delta s = s_{\\text{вост}} - s$')\n",
    "\n",
    "plt.ylabel('частота')\n",
    "\n",
    "\n",
    "plt.tight_layout()\n",
    "\n",
    "plt.show()"
   ]
  }
 ],
 "metadata": {
  "kernelspec": {
   "display_name": "base",
   "language": "python",
   "name": "python3"
  },
  "language_info": {
   "codemirror_mode": {
    "name": "ipython",
    "version": 3
   },
   "file_extension": ".py",
   "mimetype": "text/x-python",
   "name": "python",
   "nbconvert_exporter": "python",
   "pygments_lexer": "ipython3",
   "version": "3.12.3"
  }
 },
 "nbformat": 4,
 "nbformat_minor": 2
}
